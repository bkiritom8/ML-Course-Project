{
 "cells": [
  {
   "cell_type": "code",
   "execution_count": 1,
   "id": "1b8a77b4-e4c9-4064-96e0-16a47c9e3569",
   "metadata": {},
   "outputs": [
    {
     "name": "stdout",
     "output_type": "stream",
     "text": [
      "Using device: cpu\n"
     ]
    }
   ],
   "source": [
    "import torch\n",
    "import numpy as np\n",
    "import pandas as pd\n",
    "import matplotlib.pyplot as plt\n",
    "\n",
    "device = torch.device('cuda' if torch.cuda.is_available() else 'cpu')\n",
    "print(f\"Using device: {device}\")"
   ]
  },
  {
   "cell_type": "code",
   "execution_count": 3,
   "id": "8d88effb",
   "metadata": {},
   "outputs": [
    {
     "name": "stdout",
     "output_type": "stream",
     "text": [
      "Shape: (38323, 329)\n",
      "Preview:\n",
      "              GSM1539080  GSM1539081  GSM1539082  GSM1539083  GSM1539084  \\\n",
      "ID_REF                                                                     \n",
      "ILMN_1343291   14.611769   14.427104   14.624553   14.442078   14.127102   \n",
      "ILMN_1343295   11.944514   11.930664   11.777748   12.420057   11.725034   \n",
      "ILMN_1651209    7.517737    7.546532    7.647790    7.745140    7.520212   \n",
      "ILMN_1651221    7.419066    7.403191    7.382467    7.438868    7.430150   \n",
      "ILMN_1651228   11.507170   10.506885   12.058497   10.649464   11.958259   \n",
      "\n",
      "              GSM1539085  GSM1539086  GSM1539087  GSM1539088  GSM1539089  ...  \\\n",
      "ID_REF                                                                    ...   \n",
      "ILMN_1343291   14.412088   14.569419   14.624553   14.655069   14.471184  ...   \n",
      "ILMN_1343295   11.941696   11.944514   12.608218   12.266326   11.806609  ...   \n",
      "ILMN_1651209    7.716517    7.480014    7.598107    7.815103    7.569682  ...   \n",
      "ILMN_1651221    7.441058    7.386403    7.476285    7.422640    7.392535  ...   \n",
      "ILMN_1651228   10.947954   10.669642    9.963996   10.862309   11.358234  ...   \n",
      "\n",
      "              GSM1539399  GSM1539400  GSM1539401  GSM1539402  GSM1539403  \\\n",
      "ID_REF                                                                     \n",
      "ILMN_1343291   14.668559   14.526182   14.695354   15.049790   14.025296   \n",
      "ILMN_1343295   12.126935   11.892791   12.043099   12.019189   12.049508   \n",
      "ILMN_1651209    7.607597    7.622884    7.635975    7.699531    7.649240   \n",
      "ILMN_1651221    7.419287    7.395029    7.404132    7.455708    7.435492   \n",
      "ILMN_1651228   11.016573   11.178761   10.796267   10.828405   10.375336   \n",
      "\n",
      "              GSM1539404  GSM1539405  GSM1539406  GSM1539407  GSM1539408  \n",
      "ID_REF                                                                    \n",
      "ILMN_1343291   14.915290   14.655069   14.869782   14.249922   14.891158  \n",
      "ILMN_1343295   12.104508   11.903194   11.560549   11.625297   12.064573  \n",
      "ILMN_1651209    7.636703    7.605595    7.581313    7.587167    7.614630  \n",
      "ILMN_1651221    7.462115    7.498538    7.470538    7.511239    7.509601  \n",
      "ILMN_1651228   10.188892   11.489647   11.358234   10.361057   10.521751  \n",
      "\n",
      "[5 rows x 329 columns]\n"
     ]
    }
   ],
   "source": [
    "# Load Dataset\n",
    "df = pd.read_csv('data/GSE63060_series_matrix.txt.gz', sep='\\t', comment='!', index_col=0)\n",
    "\n",
    "print(\"Shape:\", df.shape)\n",
    "print(\"Preview:\")\n",
    "print(df.head(5))"
   ]
  },
  {
   "cell_type": "code",
   "execution_count": 4,
   "id": "d4e9e399",
   "metadata": {},
   "outputs": [
    {
     "name": "stdout",
     "output_type": "stream",
     "text": [
      "Processed data shape: (329, 38323)\n"
     ]
    }
   ],
   "source": [
    "# Preprocess\n",
    "# Rows = samples, columns = genes\n",
    "data = df.transpose()\n",
    "\n",
    "# Convert to numeric (handle missing / string values)\n",
    "data = data.apply(pd.to_numeric, errors='coerce')\n",
    "data = data.dropna(axis=1, how='any')  # drop columns with NaNs\n",
    "\n",
    "# Z-score normalization\n",
    "data = (data - data.mean()) / data.std()\n",
    "\n",
    "print(\"Processed data shape:\", data.shape)\n"
   ]
  },
  {
   "cell_type": "code",
   "execution_count": null,
   "id": "cf440fc4",
   "metadata": {},
   "outputs": [],
   "source": []
  }
 ],
 "metadata": {
  "kernelspec": {
   "display_name": "Python 3",
   "language": "python",
   "name": "python3"
  },
  "language_info": {
   "codemirror_mode": {
    "name": "ipython",
    "version": 3
   },
   "file_extension": ".py",
   "mimetype": "text/x-python",
   "name": "python",
   "nbconvert_exporter": "python",
   "pygments_lexer": "ipython3",
   "version": "3.12.4"
  }
 },
 "nbformat": 4,
 "nbformat_minor": 5
}
