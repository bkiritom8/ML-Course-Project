{
 "cells": [
  {
   "cell_type": "code",
   "execution_count": null,
   "id": "1b8a77b4-e4c9-4064-96e0-16a47c9e3569",
   "metadata": {},
   "outputs": [],
   "source": []
  }
 ],
 "metadata": {
  "kernelspec": {
   "display_name": "",
   "name": ""
  },
  "language_info": {
   "name": ""
  }
 },
 "nbformat": 4,
 "nbformat_minor": 5
}
